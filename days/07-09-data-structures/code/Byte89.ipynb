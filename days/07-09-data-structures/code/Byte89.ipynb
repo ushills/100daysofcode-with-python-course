{
 "cells": [
  {
   "cell_type": "code",
   "execution_count": 1,
   "metadata": {},
   "outputs": [],
   "source": [
    "us_state_abbrev = {'Alabama': 'AL', 'Alaska': 'AK', 'Arizona': 'AZ',\n",
    "                   'Arkansas': 'AR', 'California': 'CA', 'Colorado': 'CO',\n",
    "                   'Connecticut': 'CT', 'Delaware': 'DE', 'Florida': 'FL',\n",
    "                   'Georgia': 'GA', 'Hawaii': 'HI', 'Idaho': 'ID',\n",
    "                   'Illinois': 'IL', 'Indiana': 'IN', 'Iowa': 'IA',\n",
    "                   'Kansas': 'KS', 'Kentucky': 'KY', 'Louisiana': 'LA',\n",
    "                   'Maine': 'ME', 'Maryland': 'MD', 'Massachusetts': 'MA',\n",
    "                   'Michigan': 'MI', 'Minnesota': 'MN', 'Mississippi': 'MS',\n",
    "                   'Missouri': 'MO', 'Montana': 'MT', 'Nebraska': 'NE',\n",
    "                   'Nevada': 'NV', 'New Hampshire': 'NH', 'New Jersey': 'NJ',\n",
    "                   'New Mexico': 'NM', 'New York': 'NY',\n",
    "                   'North Carolina': 'NC', 'North Dakota': 'ND',\n",
    "                   'Ohio': 'OH', 'Oklahoma': 'OK', 'Oregon': 'OR',\n",
    "                   'Pennsylvania': 'PA', 'Rhode Island': 'RI',\n",
    "                   'South Carolina': 'SC', 'South Dakota': 'SD',\n",
    "                   'Tennessee': 'TN', 'Texas': 'TX', 'Utah': 'UT',\n",
    "                   'Vermont': 'VT', 'Virginia': 'VA', 'Washington': 'WA',\n",
    "                   'West Virginia': 'WV', 'Wisconsin': 'WI', 'Wyoming': 'WY'}"
   ]
  },
  {
   "cell_type": "code",
   "execution_count": 2,
   "metadata": {},
   "outputs": [],
   "source": [
    "states = ['Oklahoma', 'Kansas', 'North Carolina', 'Georgia', 'Oregon',\n",
    "          'Mississippi', 'Minnesota', 'Colorado', 'Alabama',\n",
    "          'Massachusetts', 'Arizona', 'Connecticut', 'Montana',\n",
    "          'West Virginia', 'Nebraska', 'New York', 'Nevada', 'Idaho',\n",
    "          'New Jersey', 'Missouri', 'South Carolina', 'Pennsylvania',\n",
    "          'Rhode Island', 'New Mexico', 'Alaska', 'New Hampshire',\n",
    "          'Tennessee', 'Washington', 'Indiana', 'Hawaii', 'Kentucky',\n",
    "          'Virginia', 'Ohio', 'Wisconsin', 'Maryland', 'Florida',\n",
    "          'Utah', 'Maine', 'California', 'Vermont', 'Arkansas', 'Wyoming',\n",
    "          'Louisiana', 'North Dakota', 'South Dakota', 'Texas',\n",
    "          'Illinois', 'Iowa', 'Michigan', 'Delaware']"
   ]
  },
  {
   "cell_type": "code",
   "execution_count": 23,
   "metadata": {},
   "outputs": [
    {
     "name": "stdout",
     "output_type": "stream",
     "text": [
      "30.5 µs ± 478 ns per loop (mean ± std. dev. of 7 runs, 10000 loops each)\n",
      "['Massachusetts', 'Missouri', 'Hawaii', 'Vermont', 'Delaware']\n"
     ]
    }
   ],
   "source": [
    "def get_every_nth_state(n=10):\n",
    "    x = n\n",
    "    listofnthstates = []\n",
    "    for state in states:\n",
    "        try:\n",
    "            listofnthstates.append(states[x - 1])\n",
    "            x = x + n\n",
    "        except IndexError:\n",
    "            continue\n",
    "    return(listofnthstates)      \n",
    "\n",
    "%timeit get_every_nth_state(10)\n",
    "print(get_every_nth_state(10))"
   ]
  },
  {
   "cell_type": "code",
   "execution_count": null,
   "metadata": {},
   "outputs": [],
   "source": []
  }
 ],
 "metadata": {
  "kernelspec": {
   "display_name": "Python 3",
   "language": "python",
   "name": "python3"
  }
 },
 "nbformat": 4,
 "nbformat_minor": 2
}
