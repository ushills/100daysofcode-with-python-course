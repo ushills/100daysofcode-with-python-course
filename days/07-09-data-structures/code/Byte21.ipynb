{
 "cells": [
  {
   "cell_type": "markdown",
   "metadata": {},
   "source": [
    "## Bite 21. Query a nested data structure"
   ]
  },
  {
   "cell_type": "code",
   "execution_count": 1,
   "metadata": {},
   "outputs": [],
   "source": [
    "cars = {\n",
    "    'Ford': ['Falcon', 'Focus', 'Festiva', 'Fairlane'],\n",
    "    'Holden': ['Commodore', 'Captiva', 'Barina', 'Trailblazer'],\n",
    "    'Nissan': ['Maxima', 'Pulsar', '350Z', 'Navara'],\n",
    "    'Honda': ['Civic', 'Accord', 'Odyssey', 'Jazz'],\n",
    "    'Jeep': ['Grand Cherokee', 'Cherokee', 'Trailhawk', 'Trackhawk']\n",
    "}\n"
   ]
  },
  {
   "cell_type": "code",
   "execution_count": 2,
   "metadata": {},
   "outputs": [],
   "source": [
    "def get_all_jeeps():\n",
    "    \"\"\"return a comma separated string of jeep models (original order)\"\"\"\n",
    "    pass"
   ]
  },
  {
   "cell_type": "markdown",
   "metadata": {},
   "source": [
    "**Standard solution**"
   ]
  },
  {
   "cell_type": "code",
   "execution_count": 3,
   "metadata": {},
   "outputs": [
    {
     "name": "stdout",
     "output_type": "stream",
     "text": [
      "352 ns ± 13.6 ns per loop (mean ± std. dev. of 7 runs, 1000000 loops each)\n"
     ]
    }
   ],
   "source": [
    "def get_all_jeeps():\n",
    "    jeeps = cars['Jeep']\n",
    "    models = ', '.join(jeeps)\n",
    "    return models\n",
    "\n",
    "%timeit get_all_jeeps()"
   ]
  },
  {
   "cell_type": "code",
   "execution_count": 4,
   "metadata": {},
   "outputs": [
    {
     "name": "stdout",
     "output_type": "stream",
     "text": [
      "334 ns ± 16.6 ns per loop (mean ± std. dev. of 7 runs, 1000000 loops each)\n"
     ]
    }
   ],
   "source": [
    "def get_all_jeeps():\n",
    "    return ', '.join(cars['Jeep'])\n",
    "\n",
    "# print(get_all_jeeps())\n",
    "%timeit get_all_jeeps()\n"
   ]
  },
  {
   "cell_type": "code",
   "execution_count": 5,
   "metadata": {},
   "outputs": [],
   "source": [
    "def get_first_model_each_manufacturer():\n",
    "    \"\"\"return a list of matching models (original ordering)\"\"\"\n",
    "    pass"
   ]
  },
  {
   "cell_type": "markdown",
   "metadata": {},
   "source": [
    "**Standard loop**"
   ]
  },
  {
   "cell_type": "code",
   "execution_count": 6,
   "metadata": {},
   "outputs": [
    {
     "name": "stdout",
     "output_type": "stream",
     "text": [
      "1.12 µs ± 25.7 ns per loop (mean ± std. dev. of 7 runs, 1000000 loops each)\n",
      "['Falcon', 'Commodore', 'Maxima', 'Civic', 'Grand Cherokee']\n"
     ]
    }
   ],
   "source": [
    "def get_first_model_each_manufacturer():\n",
    "    firstmodels = []\n",
    "    for maker in cars:\n",
    "        models = cars[maker]\n",
    "        firstmodels.append(models[0])\n",
    "    return firstmodels\n",
    "\n",
    "%timeit get_first_model_each_manufacturer()\n",
    "print(get_first_model_each_manufacturer())"
   ]
  },
  {
   "cell_type": "markdown",
   "metadata": {},
   "source": [
    "**Solution using list comprehenson**"
   ]
  },
  {
   "cell_type": "code",
   "execution_count": 7,
   "metadata": {},
   "outputs": [
    {
     "name": "stdout",
     "output_type": "stream",
     "text": [
      "772 ns ± 22.6 ns per loop (mean ± std. dev. of 7 runs, 1000000 loops each)\n",
      "['Falcon', 'Commodore', 'Maxima', 'Civic', 'Grand Cherokee']\n"
     ]
    }
   ],
   "source": [
    "def get_first_model_each_manufacturer():\n",
    "    return [models[0] for models in cars.values()]\n",
    "\n",
    "%timeit get_first_model_each_manufacturer()\n",
    "print(get_first_model_each_manufacturer())"
   ]
  },
  {
   "cell_type": "code",
   "execution_count": 8,
   "metadata": {},
   "outputs": [],
   "source": [
    "def get_all_matching_models(grep='trail'):\n",
    "    \"\"\"return a list of all models containing the case insensitive\n",
    "       'grep' string which defaults to 'trail' for this exercise,\n",
    "       sort the resulting sequence alphabetically\"\"\"\n",
    "    pass"
   ]
  },
  {
   "cell_type": "markdown",
   "metadata": {},
   "source": [
    "**Standard Solution**"
   ]
  },
  {
   "cell_type": "code",
   "execution_count": 9,
   "metadata": {},
   "outputs": [
    {
     "name": "stdout",
     "output_type": "stream",
     "text": [
      "6.66 µs ± 259 ns per loop (mean ± std. dev. of 7 runs, 100000 loops each)\n",
      "['Trailblazer', 'Trailhawk']\n"
     ]
    }
   ],
   "source": [
    "def get_all_matching_models(grep='trail'):\n",
    "    search_result = []\n",
    "    search_string = grep\n",
    "    for models in cars.values():\n",
    "        for model in models:\n",
    "            if search_string.lower() in model.lower():\n",
    "                search_result.append(model)\n",
    "                search_result.sort()\n",
    "    return search_result\n",
    "\n",
    "%timeit get_all_matching_models()\n",
    "print(get_all_matching_models())"
   ]
  },
  {
   "cell_type": "markdown",
   "metadata": {},
   "source": [
    "**Using List Comprehension**"
   ]
  },
  {
   "cell_type": "code",
   "execution_count": 10,
   "metadata": {},
   "outputs": [
    {
     "name": "stdout",
     "output_type": "stream",
     "text": [
      "4.95 µs ± 383 ns per loop (mean ± std. dev. of 7 runs, 100000 loops each)\n",
      "['Trailblazer', 'Trailhawk']\n"
     ]
    }
   ],
   "source": [
    "def get_all_matching_models(grep='trail'):\n",
    "    grep = grep.lower()\n",
    "    models = sum(cars.values(), [])  # flatten list of lists\n",
    "    matching_models = [model for model in models\n",
    "                       if grep in model.lower()]\n",
    "    return sorted(matching_models)\n",
    "\n",
    "%timeit get_all_matching_models()\n",
    "print(get_all_matching_models())"
   ]
  },
  {
   "cell_type": "code",
   "execution_count": 11,
   "metadata": {},
   "outputs": [],
   "source": [
    "def sort_car_models():\n",
    "    \"\"\"sort the car models (values) and return the resulting cars dict\"\"\"\n",
    "    pass"
   ]
  },
  {
   "cell_type": "markdown",
   "metadata": {},
   "source": [
    "**Standard Solution**"
   ]
  },
  {
   "cell_type": "code",
   "execution_count": 18,
   "metadata": {},
   "outputs": [
    {
     "name": "stdout",
     "output_type": "stream",
     "text": [
      "1.93 µs ± 59.7 ns per loop (mean ± std. dev. of 7 runs, 100000 loops each)\n",
      "{'Ford': ['Fairlane', 'Falcon', 'Festiva', 'Focus'], 'Holden': ['Barina', 'Captiva', 'Commodore', 'Trailblazer'], 'Nissan': ['350Z', 'Maxima', 'Navara', 'Pulsar'], 'Honda': ['Accord', 'Civic', 'Jazz', 'Odyssey'], 'Jeep': ['Cherokee', 'Grand Cherokee', 'Trackhawk', 'Trailhawk']}\n"
     ]
    }
   ],
   "source": [
    "def sort_car_models():\n",
    "    new_cars = {}\n",
    "    for maker in cars:\n",
    "        models = cars[maker]\n",
    "        models.sort()\n",
    "        new_cars[maker] = models\n",
    "    return new_cars\n",
    "\n",
    "%timeit sort_car_models()\n",
    "print(sort_car_models())"
   ]
  },
  {
   "cell_type": "markdown",
   "metadata": {},
   "source": [
    "**Using Dictionary Comprehension**\n",
    "\n",
    "Actually slower than standard solution"
   ]
  },
  {
   "cell_type": "code",
   "execution_count": 19,
   "metadata": {},
   "outputs": [
    {
     "name": "stdout",
     "output_type": "stream",
     "text": [
      "2.81 µs ± 60 ns per loop (mean ± std. dev. of 7 runs, 100000 loops each)\n",
      "{'Ford': ['Fairlane', 'Falcon', 'Festiva', 'Focus'], 'Holden': ['Barina', 'Captiva', 'Commodore', 'Trailblazer'], 'Nissan': ['350Z', 'Maxima', 'Navara', 'Pulsar'], 'Honda': ['Accord', 'Civic', 'Jazz', 'Odyssey'], 'Jeep': ['Cherokee', 'Grand Cherokee', 'Trackhawk', 'Trailhawk']}\n"
     ]
    }
   ],
   "source": [
    "def sort_car_models():\n",
    "    \"\"\"sort the car models (values) and return the resulting cars dict\"\"\"\n",
    "    return {manufacturer: sorted(models) for\n",
    "            manufacturer, models in cars.items()}\n",
    "\n",
    "%timeit sort_car_models()\n",
    "print(sort_car_models())"
   ]
  },
  {
   "cell_type": "code",
   "execution_count": null,
   "metadata": {},
   "outputs": [],
   "source": []
  }
 ],
 "metadata": {
  "kernelspec": {
   "display_name": "Python 3",
   "language": "python",
   "name": "python3"
  },
  "language_info": {
   "codemirror_mode": {
    "name": "ipython",
    "version": 3
   },
   "file_extension": ".py",
   "mimetype": "text/x-python",
   "name": "python",
   "nbconvert_exporter": "python",
   "pygments_lexer": "ipython3",
   "version": "3.6.5"
  }
 },
 "nbformat": 4,
 "nbformat_minor": 2
}
