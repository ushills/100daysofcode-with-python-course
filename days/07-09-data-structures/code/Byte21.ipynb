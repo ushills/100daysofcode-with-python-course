{
 "cells": [
  {
   "cell_type": "markdown",
   "metadata": {},
   "source": [
    "## Bite 21. Query a nested data structure"
   ]
  },
  {
   "cell_type": "code",
   "execution_count": 4,
   "metadata": {},
   "outputs": [],
   "source": [
    "cars = {\n",
    "    'Ford': ['Falcon', 'Focus', 'Festiva', 'Fairlane'],\n",
    "    'Holden': ['Commodore', 'Captiva', 'Barina', 'Trailblazer'],\n",
    "    'Nissan': ['Maxima', 'Pulsar', '350Z', 'Navara'],\n",
    "    'Honda': ['Civic', 'Accord', 'Odyssey', 'Jazz'],\n",
    "    'Jeep': ['Grand Cherokee', 'Cherokee', 'Trailhawk', 'Trackhawk']\n",
    "}\n"
   ]
  },
  {
   "cell_type": "code",
   "execution_count": 5,
   "metadata": {},
   "outputs": [],
   "source": [
    "def get_all_jeeps():\n",
    "    \"\"\"return a comma separated string of jeep models (original order)\"\"\"\n",
    "    pass"
   ]
  },
  {
   "cell_type": "markdown",
   "metadata": {},
   "source": [
    "**Standard solution**"
   ]
  },
  {
   "cell_type": "code",
   "execution_count": 6,
   "metadata": {},
   "outputs": [
    {
     "name": "stdout",
     "output_type": "stream",
     "text": [
      "440 ns ± 29.6 ns per loop (mean ± std. dev. of 7 runs, 1000000 loops each)\n"
     ]
    }
   ],
   "source": [
    "def get_all_jeeps():\n",
    "    jeeps = cars['Jeep']\n",
    "    models = ', '.join(jeeps)\n",
    "    return models\n",
    "\n",
    "%timeit get_all_jeeps()"
   ]
  },
  {
   "cell_type": "code",
   "execution_count": 7,
   "metadata": {},
   "outputs": [
    {
     "name": "stdout",
     "output_type": "stream",
     "text": [
      "394 ns ± 13.3 ns per loop (mean ± std. dev. of 7 runs, 1000000 loops each)\n"
     ]
    }
   ],
   "source": [
    "def get_all_jeeps():\n",
    "    return ', '.join(cars['Jeep'])\n",
    "\n",
    "# print(get_all_jeeps())\n",
    "%timeit get_all_jeeps()\n"
   ]
  },
  {
   "cell_type": "code",
   "execution_count": 8,
   "metadata": {},
   "outputs": [],
   "source": [
    "def get_first_model_each_manufacturer():\n",
    "    \"\"\"return a list of matching models (original ordering)\"\"\"\n",
    "    pass"
   ]
  },
  {
   "cell_type": "markdown",
   "metadata": {},
   "source": [
    "**Standard loop**"
   ]
  },
  {
   "cell_type": "code",
   "execution_count": 9,
   "metadata": {},
   "outputs": [
    {
     "name": "stdout",
     "output_type": "stream",
     "text": [
      "1.14 µs ± 24 ns per loop (mean ± std. dev. of 7 runs, 1000000 loops each)\n",
      "['Falcon', 'Commodore', 'Maxima', 'Civic', 'Grand Cherokee']\n"
     ]
    }
   ],
   "source": [
    "def get_first_model_each_manufacturer():\n",
    "    firstmodels = []\n",
    "    for maker in cars:\n",
    "        models = cars[maker]\n",
    "        firstmodels.append(models[0])\n",
    "    return firstmodels\n",
    "\n",
    "%timeit get_first_model_each_manufacturer()\n",
    "print(get_first_model_each_manufacturer())"
   ]
  },
  {
   "cell_type": "markdown",
   "metadata": {},
   "source": [
    "**Solution using list comprehenson**"
   ]
  },
  {
   "cell_type": "code",
   "execution_count": 10,
   "metadata": {},
   "outputs": [
    {
     "name": "stdout",
     "output_type": "stream",
     "text": [
      "829 ns ± 67.3 ns per loop (mean ± std. dev. of 7 runs, 1000000 loops each)\n",
      "['Falcon', 'Commodore', 'Maxima', 'Civic', 'Grand Cherokee']\n"
     ]
    }
   ],
   "source": [
    "def get_first_model_each_manufacturer():\n",
    "    return [models[0] for models in cars.values()]\n",
    "\n",
    "%timeit get_first_model_each_manufacturer()\n",
    "print(get_first_model_each_manufacturer())"
   ]
  },
  {
   "cell_type": "code",
   "execution_count": 11,
   "metadata": {},
   "outputs": [],
   "source": [
    "def get_all_matching_models(grep='trail'):\n",
    "    \"\"\"return a list of all models containing the case insensitive\n",
    "       'grep' string which defaults to 'trail' for this exercise,\n",
    "       sort the resulting sequence alphabetically\"\"\"\n",
    "    pass"
   ]
  },
  {
   "cell_type": "markdown",
   "metadata": {},
   "source": [
    "**Standard Solution**"
   ]
  },
  {
   "cell_type": "code",
   "execution_count": 15,
   "metadata": {},
   "outputs": [
    {
     "name": "stdout",
     "output_type": "stream",
     "text": [
      "8.89 µs ± 496 ns per loop (mean ± std. dev. of 7 runs, 100000 loops each)\n",
      "['Trailblazer', 'Trailhawk']\n"
     ]
    }
   ],
   "source": [
    "def get_all_matching_models(grep='trail'):\n",
    "    search_result = []\n",
    "    search_string = grep\n",
    "    for models in cars.values():\n",
    "        for model in models:\n",
    "            if search_string.lower() in model.lower():\n",
    "                search_result.append(model)\n",
    "                search_result.sort()\n",
    "    return search_result\n",
    "\n",
    "%timeit get_all_matching_models()\n",
    "print(get_all_matching_models())"
   ]
  },
  {
   "cell_type": "markdown",
   "metadata": {},
   "source": [
    "**Using List Comprehension**"
   ]
  },
  {
   "cell_type": "code",
   "execution_count": 13,
   "metadata": {},
   "outputs": [
    {
     "name": "stdout",
     "output_type": "stream",
     "text": [
      "5.57 µs ± 567 ns per loop (mean ± std. dev. of 7 runs, 100000 loops each)\n",
      "['Trailblazer', 'Trailhawk']\n"
     ]
    }
   ],
   "source": [
    "def get_all_matching_models(grep='trail'):\n",
    "    grep = grep.lower()\n",
    "    models = sum(cars.values(), [])  # flatten list of lists\n",
    "    matching_models = [model for model in models\n",
    "                       if grep in model.lower()]\n",
    "    return sorted(matching_models)\n",
    "\n",
    "%timeit get_all_matching_models()\n",
    "print(get_all_matching_models())"
   ]
  },
  {
   "cell_type": "code",
   "execution_count": null,
   "metadata": {},
   "outputs": [],
   "source": [
    "def sort_car_models():\n",
    "    \"\"\"sort the car models (values) and return the resulting cars dict\"\"\"\n",
    "    pass"
   ]
  },
  {
   "cell_type": "code",
   "execution_count": null,
   "metadata": {},
   "outputs": [],
   "source": [
    "new_cars = {}\n",
    "for maker in cars:\n",
    "    models = cars[maker]\n",
    "    models.sort()\n",
    "    new_cars[maker] = models\n",
    "print(new_cars)"
   ]
  },
  {
   "cell_type": "code",
   "execution_count": null,
   "metadata": {},
   "outputs": [],
   "source": [
    "def get_all_matching_models(grep='trail'):\n",
    "    search_result = []\n",
    "    for models in cars.values():\n",
    "        for model in models:\n",
    "            if grep.lower() in model.lower():\n",
    "                search_result.append(model)\n",
    "    search_result.sort()\n",
    "    return search_result\n",
    "\n",
    "get_all_matching_models('CO')"
   ]
  },
  {
   "cell_type": "code",
   "execution_count": null,
   "metadata": {},
   "outputs": [],
   "source": [
    "def get_all_matching_models(grep='trail'):\n",
    "    search_result = []\n",
    "    for models in cars.values():\n",
    "        search_result = [model for model in models if (grep.lower() == model.lower())]\n",
    "    return search_result\n",
    "\n",
    "get_all_matching_models('CO')"
   ]
  },
  {
   "cell_type": "code",
   "execution_count": null,
   "metadata": {},
   "outputs": [],
   "source": []
  }
 ],
 "metadata": {
  "kernelspec": {
   "display_name": "Python 3",
   "language": "python",
   "name": "python3"
  },
  "language_info": {
   "codemirror_mode": {
    "name": "ipython",
    "version": 3
   },
   "file_extension": ".py",
   "mimetype": "text/x-python",
   "name": "python",
   "nbconvert_exporter": "python",
   "pygments_lexer": "ipython3",
   "version": "3.6.5"
  }
 },
 "nbformat": 4,
 "nbformat_minor": 2
}
